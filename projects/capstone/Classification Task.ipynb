{
 "cells": [
  {
   "cell_type": "code",
   "execution_count": 1,
   "metadata": {},
   "outputs": [],
   "source": [
    "import numpy as np\n",
    "import pandas as pd\n",
    "import seaborn as sns\n",
    "import matplotlib.pyplot as plt\n",
    "from Preprocess import Preprocessor\n",
    "%matplotlib inline"
   ]
  },
  {
   "cell_type": "code",
   "execution_count": 2,
   "metadata": {
    "collapsed": true
   },
   "outputs": [],
   "source": [
    "column_names = [\"Time\",\"VehicleSpeed\",\"ShiftNumber\",\"EngineLoad\",\"TotalAcc\",\"EngineRPM\",\"Pitch\",\"LatAcc\",\"PassCount\",\"CarLoad\",\"AirCondStatus\",\"WindowOpen\",\"RadioVolume\",\"RainIntensity\",\"Visibility\",\"DriverWellbeing\",\"DriverRush\"]"
   ]
  },
  {
   "cell_type": "code",
   "execution_count": 3,
   "metadata": {
    "collapsed": true
   },
   "outputs": [],
   "source": [
    "df = pd.DataFrame(columns=column_names)\n",
    "for i in range(1,38):\n",
    "    tempdf = pd.read_csv(\"Processed Data/fileID\"+str(i)+\"_ProcessedTripData.csv\",names=column_names)\n",
    "    df = df.append(tempdf)"
   ]
  },
  {
   "cell_type": "code",
   "execution_count": 4,
   "metadata": {},
   "outputs": [],
   "source": [
    "preprocessor = Preprocessor(df)"
   ]
  },
  {
   "cell_type": "code",
   "execution_count": 5,
   "metadata": {},
   "outputs": [],
   "source": [
    "reframed = preprocessor.Run()"
   ]
  },
  {
   "cell_type": "code",
   "execution_count": 20,
   "metadata": {
    "collapsed": true
   },
   "outputs": [],
   "source": [
    "values = reframed.values\n",
    "training_samples = round(len(reframed)*1/100)\n",
    "validation_samples = training_samples + round(len(reframed)*0.5/100)\n",
    "train = values[:training_samples, :]\n",
    "validate = values[training_samples:validation_samples, :]\n",
    "test = values[validation_samples:, :]"
   ]
  },
  {
   "cell_type": "code",
   "execution_count": 21,
   "metadata": {},
   "outputs": [
    {
     "data": {
      "text/plain": [
       "Index(['var1(t-1)', 'var2(t-1)', 'var3(t-1)', 'var4(t-1)', 'var5(t-1)',\n",
       "       'var6(t-1)', 'var7(t-1)', 'var8(t-1)', 'var9(t-1)', 'var10(t-1)',\n",
       "       'var11(t-1)', 'var12(t-1)', 'var13(t-1)', 'var14(t-1)', 'var15(t-1)',\n",
       "       'var16(t-1)', 'var17(t-1)', 'var18(t-1)', 'var19(t-1)', 'var20(t-1)',\n",
       "       'var21(t-1)', 'var16(t)', 'var17(t)', 'var18(t)', 'var19(t)',\n",
       "       'var20(t)', 'var21(t)'],\n",
       "      dtype='object')"
      ]
     },
     "execution_count": 21,
     "metadata": {},
     "output_type": "execute_result"
    }
   ],
   "source": [
    "reframed.columns"
   ]
  },
  {
   "cell_type": "code",
   "execution_count": 22,
   "metadata": {
    "collapsed": true
   },
   "outputs": [],
   "source": [
    "\n",
    "# split into input and outputs\n",
    "train_X, train_y = train[:, :-6], train[:, -6:]\n",
    "validate_X, validate_y = validate[:, :-6], validate[:, -6:]\n",
    "test_X, test_y = test[:, :-6], test[:, -6:]"
   ]
  },
  {
   "cell_type": "code",
   "execution_count": 23,
   "metadata": {},
   "outputs": [
    {
     "name": "stdout",
     "output_type": "stream",
     "text": [
      "(76470, 1, 21) (76470, 6) (38235, 1, 21) (38235, 6) (7532285, 1, 21) (7532285, 6)\n"
     ]
    }
   ],
   "source": [
    "# reshape input to be 3D [samples, timesteps, features]\n",
    "train_X = train_X.reshape((train_X.shape[0], 1, train_X.shape[1]))\n",
    "validate_X = validate_X.reshape((validate_X.shape[0], 1, validate_X.shape[1]))\n",
    "test_X = test_X.reshape((test_X.shape[0], 1, test_X.shape[1]))\n",
    "print(train_X.shape, train_y.shape, validate_X.shape, validate_y.shape,test_X.shape, test_y.shape)"
   ]
  },
  {
   "cell_type": "code",
   "execution_count": 24,
   "metadata": {},
   "outputs": [],
   "source": [
    "import keras"
   ]
  },
  {
   "cell_type": "code",
   "execution_count": 25,
   "metadata": {
    "collapsed": true
   },
   "outputs": [],
   "source": [
    "from keras.models import Sequential\n",
    "from keras.layers import Dense\n",
    "from keras.layers import Dropout\n",
    "from keras.layers import LSTM"
   ]
  },
  {
   "cell_type": "code",
   "execution_count": 26,
   "metadata": {
    "collapsed": true
   },
   "outputs": [],
   "source": [
    "# design network\n",
    "model = Sequential()"
   ]
  },
  {
   "cell_type": "code",
   "execution_count": 27,
   "metadata": {
    "scrolled": true
   },
   "outputs": [
    {
     "name": "stdout",
     "output_type": "stream",
     "text": [
      "Train on 76470 samples, validate on 38235 samples\n",
      "Epoch 1/10\n",
      "76470/76470 [==============================] - 2s - loss: 1.4779 - acc: 0.4731 - val_loss: 0.9788 - val_acc: 0.6160\n",
      "Epoch 2/10\n",
      "76470/76470 [==============================] - 1s - loss: 0.7216 - acc: 0.7784 - val_loss: 0.2792 - val_acc: 0.9980\n",
      "Epoch 3/10\n",
      "76470/76470 [==============================] - 1s - loss: 0.2051 - acc: 0.9757 - val_loss: 0.0922 - val_acc: 0.9980\n",
      "Epoch 4/10\n",
      "76470/76470 [==============================] - 1s - loss: 0.0939 - acc: 0.9859 - val_loss: 0.0525 - val_acc: 0.9980\n",
      "Epoch 5/10\n",
      "76470/76470 [==============================] - 1s - loss: 0.0579 - acc: 0.9883 - val_loss: 0.0376 - val_acc: 0.9980\n",
      "Epoch 6/10\n",
      "76470/76470 [==============================] - 1s - loss: 0.0397 - acc: 0.9984 - val_loss: 0.0299 - val_acc: 0.9980\n",
      "Epoch 7/10\n",
      "76470/76470 [==============================] - 1s - loss: 0.0294 - acc: 0.9984 - val_loss: 0.0252 - val_acc: 0.9980\n",
      "Epoch 8/10\n",
      "76470/76470 [==============================] - 1s - loss: 0.0235 - acc: 0.9984 - val_loss: 0.0223 - val_acc: 0.9980\n",
      "Epoch 9/10\n",
      "76470/76470 [==============================] - 1s - loss: 0.0202 - acc: 0.9984 - val_loss: 0.0205 - val_acc: 0.9980\n",
      "Epoch 10/10\n",
      "76470/76470 [==============================] - 1s - loss: 0.0181 - acc: 0.9984 - val_loss: 0.0194 - val_acc: 0.9980\n"
     ]
    }
   ],
   "source": [
    "model.add(LSTM(50, input_shape=(train_X.shape[1], train_X.shape[2])))\n",
    "model.add(Dense(6, activation='sigmoid'))\n",
    "model.compile(loss='categorical_crossentropy', optimizer='adam',metrics=['accuracy'])\n",
    "# fit network\n",
    "tbCallBack = keras.callbacks.TensorBoard(log_dir='./Graph1', histogram_freq=0,  \n",
    "          write_graph=True)\n",
    "history = model.fit(train_X, train_y, epochs=10, batch_size=256, validation_data=(validate_X, validate_y), shuffle=False, callbacks =[tbCallBack])\n",
    "# plot history"
   ]
  },
  {
   "cell_type": "code",
   "execution_count": 28,
   "metadata": {
    "scrolled": true
   },
   "outputs": [
    {
     "data": {
      "image/png": "[encoded data removed]",
      "text/plain": [
       "<matplotlib.figure.Figure at 0x2562a898>"
      ]
     },
     "metadata": {},
     "output_type": "display_data"
    }
   ],
   "source": [
    "plt.plot(history.history['loss'], label='train')\n",
    "plt.plot(history.history['val_loss'], label='validate')\n",
    "plt.xlabel('Number of epochs')\n",
    "plt.ylabel('loss')\n",
    "plt.legend()\n",
    "plt.show()"
   ]
  },
  {
   "cell_type": "code",
   "execution_count": 29,
   "metadata": {},
   "outputs": [
    {
     "name": "stdout",
     "output_type": "stream",
     "text": [
      "7531680/7532285 [============================>.] - ETA: 0s"
     ]
    }
   ],
   "source": [
    "yhat = model.predict(test_X,verbose=1)"
   ]
  },
  {
   "cell_type": "code",
   "execution_count": 30,
   "metadata": {},
   "outputs": [
    {
     "data": {
      "text/plain": [
       "array([[ 0.,  0.,  0.,  1.,  0.,  0.],\n",
       "       [ 0.,  0.,  0.,  1.,  0.,  0.],\n",
       "       [ 0.,  0.,  0.,  1.,  0.,  0.],\n",
       "       ..., \n",
       "       [ 1.,  0.,  0.,  0.,  0.,  0.],\n",
       "       [ 1.,  0.,  0.,  0.,  0.,  0.],\n",
       "       [ 1.,  0.,  0.,  0.,  0.,  0.]], dtype=float32)"
      ]
     },
     "execution_count": 30,
     "metadata": {},
     "output_type": "execute_result"
    }
   ],
   "source": [
    "test_y"
   ]
  },
  {
   "cell_type": "code",
   "execution_count": 31,
   "metadata": {
    "collapsed": true
   },
   "outputs": [],
   "source": [
    "for values in yhat:\n",
    "    max_index = np.argmax(values)\n",
    "    values[max_index] = 1\n",
    "    for index in range(0,6):\n",
    "        if max_index != index:\n",
    "            values[index] = 0    "
   ]
  },
  {
   "cell_type": "code",
   "execution_count": 32,
   "metadata": {},
   "outputs": [
    {
     "data": {
      "text/plain": [
       "array([[ 0.,  0.,  0.,  1.,  0.,  0.],\n",
       "       [ 0.,  0.,  0.,  1.,  0.,  0.],\n",
       "       [ 0.,  0.,  0.,  1.,  0.,  0.],\n",
       "       ..., \n",
       "       [ 1.,  0.,  0.,  0.,  0.,  0.],\n",
       "       [ 1.,  0.,  0.,  0.,  0.,  0.],\n",
       "       [ 1.,  0.,  0.,  0.,  0.,  0.]], dtype=float32)"
      ]
     },
     "execution_count": 32,
     "metadata": {},
     "output_type": "execute_result"
    }
   ],
   "source": [
    "yhat"
   ]
  },
  {
   "cell_type": "code",
   "execution_count": 33,
   "metadata": {},
   "outputs": [
    {
     "name": "stdout",
     "output_type": "stream",
     "text": [
      "0.998606133464\n"
     ]
    }
   ],
   "source": [
    "from sklearn.metrics import precision_score, f1_score\n",
    "print(precision_score(test_y,yhat,average='micro'))"
   ]
  },
  {
   "cell_type": "code",
   "execution_count": 34,
   "metadata": {},
   "outputs": [
    {
     "name": "stdout",
     "output_type": "stream",
     "text": [
      "[ 3481896.   290294.   933947.  1075168.   833001.   907480.] [ 5249.  1384.  1618.  1190.   737.   321.] [ 3487146.   291678.   935565.  1076357.   833738.   907801.]\n"
     ]
    }
   ],
   "source": [
    "tps = np.zeros(6)\n",
    "fps = np.zeros(6)\n",
    "samples = np.zeros(6)\n",
    "for pred,true in zip(yhat,test_y):\n",
    "    for idx in range(0,6):\n",
    "        if pred[idx] == 1 and true[idx] == 1:\n",
    "            tps[idx] = tps[idx] + 1\n",
    "        elif (pred[idx] == 1 and true[idx] == 0):\n",
    "            fps[idx] = fps[idx] + 1\n",
    "        if true[idx] == 1:\n",
    "            samples[idx] = samples[idx] + 1\n",
    "print(tps,fps,samples)"
   ]
  },
  {
   "cell_type": "code",
   "execution_count": 35,
   "metadata": {
    "scrolled": true
   },
   "outputs": [
    {
     "data": {
      "text/plain": [
       "0.99860613346414795"
      ]
     },
     "execution_count": 35,
     "metadata": {},
     "output_type": "execute_result"
    }
   ],
   "source": [
    "#Microaveraged precision\n",
    "np.sum(tps)/(np.sum(tps)+np.sum(fps))"
   ]
  },
  {
   "cell_type": "code",
   "execution_count": 36,
   "metadata": {},
   "outputs": [
    {
     "data": {
      "text/plain": [
       "array([ 0.99849476,  0.99525504,  0.99827056,  0.99889442,  0.99911603,\n",
       "        0.9996464 ])"
      ]
     },
     "execution_count": 36,
     "metadata": {},
     "output_type": "execute_result"
    }
   ],
   "source": [
    "#individual precision\n",
    "tps/(tps+fps)"
   ]
  }
 ],
 "metadata": {
  "kernelspec": {
   "display_name": "Python 3",
   "language": "python",
   "name": "python3"
  },
  "language_info": {
   "codemirror_mode": {
    "name": "ipython",
    "version": 3
   },
   "file_extension": ".py",
   "mimetype": "text/x-python",
   "name": "python",
   "nbconvert_exporter": "python",
   "pygments_lexer": "ipython3",
   "version": "3.6.1"
  }
 },
 "nbformat": 4,
 "nbformat_minor": 2
}
